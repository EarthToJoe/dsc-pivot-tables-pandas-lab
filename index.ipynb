{
  "cells": [
    {
      "cell_type": "markdown",
      "metadata": {
        "id": "jyEgQTP8hiZT"
      },
      "source": [
        "# Pivot Tables with Pandas - Lab\n",
        "\n",
        "## Introduction\n",
        "\n",
        "In this lab, use pivot tables with real-world data.  \n",
        "\n",
        "## Objectives\n",
        "\n",
        "In this lab you will:\n",
        "\n",
        "- Describe what is meant by long and wide format data\n",
        "- Use multi-hierarchical indexing to access aggregated data\n",
        "- Use pivot to create a more organized aggregated DataFrame\n",
        "- Use stack and unstack to move between different level of multi-indexing\n",
        "\n",
        "## Getting Started\n",
        "\n",
        "In the cell below:\n",
        "\n",
        "* Import `pandas` and set the standard alias   \n",
        "* Import `matplotlib.pyplot` and set the standard alias   \n",
        "* Run the iPython magic command to display matplotlib graphs inline within the notebook"
      ]
    },
    {
      "cell_type": "code",
      "execution_count": 1,
      "metadata": {
        "id": "eFr0BwsfhiZT"
      },
      "outputs": [],
      "source": [
        "import pandas as pd\n",
        "import matplotlib.pyplot as plt\n",
        "\n",
        "%matplotlib inline"
      ]
    },
    {
      "cell_type": "markdown",
      "metadata": {
        "id": "Aw93sCSMhiZT"
      },
      "source": [
        "## Load the data\n",
        "The data for this activity is stored in a file called `'causes_of_death.tsv'` which is a somewhat morbid dataset from the center for disease control. Note that the file extension .tsv indicates that this data is formatted slightly differently then the standard .csv, the difference being that it has 'tab separated values' instead of 'comma separated values'. As such, pass in the optional parameter `delimiter='\\t'` into the `pd.read_csv()` function."
      ]
    },
    {
      "cell_type": "code",
      "execution_count": 6,
      "metadata": {
        "id": "fLs2ifXZhiZU"
      },
      "outputs": [],
      "source": [
        "df = pd.read_csv('https://raw.githubusercontent.com/EarthToJoe/dsc-pivot-tables-pandas-lab/refs/heads/master/causes_of_death.tsv', delimiter='\\t')"
      ]
    },
    {
      "cell_type": "markdown",
      "metadata": {
        "id": "5KCY2b7qhiZU"
      },
      "source": [
        "Now, display the head of the DataFrame to ensure everything loaded correctly."
      ]
    },
    {
      "cell_type": "code",
      "execution_count": 7,
      "metadata": {
        "id": "U4xdj7tghiZV",
        "outputId": "80133108-9829-4332-c12e-ba6e3b3b3308",
        "colab": {
          "base_uri": "https://localhost:8080/",
          "height": 204
        }
      },
      "outputs": [
        {
          "output_type": "execute_result",
          "data": {
            "text/plain": [
              "   Notes    State  State Code Ten-Year Age Groups Ten-Year Age Groups Code  \\\n",
              "0    NaN  Alabama           1            < 1 year                        1   \n",
              "1    NaN  Alabama           1            < 1 year                        1   \n",
              "2    NaN  Alabama           1            < 1 year                        1   \n",
              "3    NaN  Alabama           1            < 1 year                        1   \n",
              "4    NaN  Alabama           1            < 1 year                        1   \n",
              "\n",
              "   Gender Gender Code                              Race Race Code  Deaths  \\\n",
              "0  Female           F  American Indian or Alaska Native    1002-5      14   \n",
              "1  Female           F         Asian or Pacific Islander      A-PI      24   \n",
              "2  Female           F         Black or African American    2054-5    2093   \n",
              "3  Female           F                             White    2106-3    2144   \n",
              "4    Male           M         Asian or Pacific Islander      A-PI      33   \n",
              "\n",
              "  Population  Crude Rate  \n",
              "0       3579  Unreliable  \n",
              "1       7443       322.5  \n",
              "2     169339      1236.0  \n",
              "3     347921       616.2  \n",
              "4       7366       448.0  "
            ],
            "text/html": [
              "\n",
              "  <div id=\"df-c115a9c2-a178-4ac6-ba80-6e7827001b46\" class=\"colab-df-container\">\n",
              "    <div>\n",
              "<style scoped>\n",
              "    .dataframe tbody tr th:only-of-type {\n",
              "        vertical-align: middle;\n",
              "    }\n",
              "\n",
              "    .dataframe tbody tr th {\n",
              "        vertical-align: top;\n",
              "    }\n",
              "\n",
              "    .dataframe thead th {\n",
              "        text-align: right;\n",
              "    }\n",
              "</style>\n",
              "<table border=\"1\" class=\"dataframe\">\n",
              "  <thead>\n",
              "    <tr style=\"text-align: right;\">\n",
              "      <th></th>\n",
              "      <th>Notes</th>\n",
              "      <th>State</th>\n",
              "      <th>State Code</th>\n",
              "      <th>Ten-Year Age Groups</th>\n",
              "      <th>Ten-Year Age Groups Code</th>\n",
              "      <th>Gender</th>\n",
              "      <th>Gender Code</th>\n",
              "      <th>Race</th>\n",
              "      <th>Race Code</th>\n",
              "      <th>Deaths</th>\n",
              "      <th>Population</th>\n",
              "      <th>Crude Rate</th>\n",
              "    </tr>\n",
              "  </thead>\n",
              "  <tbody>\n",
              "    <tr>\n",
              "      <th>0</th>\n",
              "      <td>NaN</td>\n",
              "      <td>Alabama</td>\n",
              "      <td>1</td>\n",
              "      <td>&lt; 1 year</td>\n",
              "      <td>1</td>\n",
              "      <td>Female</td>\n",
              "      <td>F</td>\n",
              "      <td>American Indian or Alaska Native</td>\n",
              "      <td>1002-5</td>\n",
              "      <td>14</td>\n",
              "      <td>3579</td>\n",
              "      <td>Unreliable</td>\n",
              "    </tr>\n",
              "    <tr>\n",
              "      <th>1</th>\n",
              "      <td>NaN</td>\n",
              "      <td>Alabama</td>\n",
              "      <td>1</td>\n",
              "      <td>&lt; 1 year</td>\n",
              "      <td>1</td>\n",
              "      <td>Female</td>\n",
              "      <td>F</td>\n",
              "      <td>Asian or Pacific Islander</td>\n",
              "      <td>A-PI</td>\n",
              "      <td>24</td>\n",
              "      <td>7443</td>\n",
              "      <td>322.5</td>\n",
              "    </tr>\n",
              "    <tr>\n",
              "      <th>2</th>\n",
              "      <td>NaN</td>\n",
              "      <td>Alabama</td>\n",
              "      <td>1</td>\n",
              "      <td>&lt; 1 year</td>\n",
              "      <td>1</td>\n",
              "      <td>Female</td>\n",
              "      <td>F</td>\n",
              "      <td>Black or African American</td>\n",
              "      <td>2054-5</td>\n",
              "      <td>2093</td>\n",
              "      <td>169339</td>\n",
              "      <td>1236.0</td>\n",
              "    </tr>\n",
              "    <tr>\n",
              "      <th>3</th>\n",
              "      <td>NaN</td>\n",
              "      <td>Alabama</td>\n",
              "      <td>1</td>\n",
              "      <td>&lt; 1 year</td>\n",
              "      <td>1</td>\n",
              "      <td>Female</td>\n",
              "      <td>F</td>\n",
              "      <td>White</td>\n",
              "      <td>2106-3</td>\n",
              "      <td>2144</td>\n",
              "      <td>347921</td>\n",
              "      <td>616.2</td>\n",
              "    </tr>\n",
              "    <tr>\n",
              "      <th>4</th>\n",
              "      <td>NaN</td>\n",
              "      <td>Alabama</td>\n",
              "      <td>1</td>\n",
              "      <td>&lt; 1 year</td>\n",
              "      <td>1</td>\n",
              "      <td>Male</td>\n",
              "      <td>M</td>\n",
              "      <td>Asian or Pacific Islander</td>\n",
              "      <td>A-PI</td>\n",
              "      <td>33</td>\n",
              "      <td>7366</td>\n",
              "      <td>448.0</td>\n",
              "    </tr>\n",
              "  </tbody>\n",
              "</table>\n",
              "</div>\n",
              "    <div class=\"colab-df-buttons\">\n",
              "\n",
              "  <div class=\"colab-df-container\">\n",
              "    <button class=\"colab-df-convert\" onclick=\"convertToInteractive('df-c115a9c2-a178-4ac6-ba80-6e7827001b46')\"\n",
              "            title=\"Convert this dataframe to an interactive table.\"\n",
              "            style=\"display:none;\">\n",
              "\n",
              "  <svg xmlns=\"http://www.w3.org/2000/svg\" height=\"24px\" viewBox=\"0 -960 960 960\">\n",
              "    <path d=\"M120-120v-720h720v720H120Zm60-500h600v-160H180v160Zm220 220h160v-160H400v160Zm0 220h160v-160H400v160ZM180-400h160v-160H180v160Zm440 0h160v-160H620v160ZM180-180h160v-160H180v160Zm440 0h160v-160H620v160Z\"/>\n",
              "  </svg>\n",
              "    </button>\n",
              "\n",
              "  <style>\n",
              "    .colab-df-container {\n",
              "      display:flex;\n",
              "      gap: 12px;\n",
              "    }\n",
              "\n",
              "    .colab-df-convert {\n",
              "      background-color: #E8F0FE;\n",
              "      border: none;\n",
              "      border-radius: 50%;\n",
              "      cursor: pointer;\n",
              "      display: none;\n",
              "      fill: #1967D2;\n",
              "      height: 32px;\n",
              "      padding: 0 0 0 0;\n",
              "      width: 32px;\n",
              "    }\n",
              "\n",
              "    .colab-df-convert:hover {\n",
              "      background-color: #E2EBFA;\n",
              "      box-shadow: 0px 1px 2px rgba(60, 64, 67, 0.3), 0px 1px 3px 1px rgba(60, 64, 67, 0.15);\n",
              "      fill: #174EA6;\n",
              "    }\n",
              "\n",
              "    .colab-df-buttons div {\n",
              "      margin-bottom: 4px;\n",
              "    }\n",
              "\n",
              "    [theme=dark] .colab-df-convert {\n",
              "      background-color: #3B4455;\n",
              "      fill: #D2E3FC;\n",
              "    }\n",
              "\n",
              "    [theme=dark] .colab-df-convert:hover {\n",
              "      background-color: #434B5C;\n",
              "      box-shadow: 0px 1px 3px 1px rgba(0, 0, 0, 0.15);\n",
              "      filter: drop-shadow(0px 1px 2px rgba(0, 0, 0, 0.3));\n",
              "      fill: #FFFFFF;\n",
              "    }\n",
              "  </style>\n",
              "\n",
              "    <script>\n",
              "      const buttonEl =\n",
              "        document.querySelector('#df-c115a9c2-a178-4ac6-ba80-6e7827001b46 button.colab-df-convert');\n",
              "      buttonEl.style.display =\n",
              "        google.colab.kernel.accessAllowed ? 'block' : 'none';\n",
              "\n",
              "      async function convertToInteractive(key) {\n",
              "        const element = document.querySelector('#df-c115a9c2-a178-4ac6-ba80-6e7827001b46');\n",
              "        const dataTable =\n",
              "          await google.colab.kernel.invokeFunction('convertToInteractive',\n",
              "                                                    [key], {});\n",
              "        if (!dataTable) return;\n",
              "\n",
              "        const docLinkHtml = 'Like what you see? Visit the ' +\n",
              "          '<a target=\"_blank\" href=https://colab.research.google.com/notebooks/data_table.ipynb>data table notebook</a>'\n",
              "          + ' to learn more about interactive tables.';\n",
              "        element.innerHTML = '';\n",
              "        dataTable['output_type'] = 'display_data';\n",
              "        await google.colab.output.renderOutput(dataTable, element);\n",
              "        const docLink = document.createElement('div');\n",
              "        docLink.innerHTML = docLinkHtml;\n",
              "        element.appendChild(docLink);\n",
              "      }\n",
              "    </script>\n",
              "  </div>\n",
              "\n",
              "\n",
              "<div id=\"df-96987edf-a6b9-4ad5-b46f-cf40564958e0\">\n",
              "  <button class=\"colab-df-quickchart\" onclick=\"quickchart('df-96987edf-a6b9-4ad5-b46f-cf40564958e0')\"\n",
              "            title=\"Suggest charts\"\n",
              "            style=\"display:none;\">\n",
              "\n",
              "<svg xmlns=\"http://www.w3.org/2000/svg\" height=\"24px\"viewBox=\"0 0 24 24\"\n",
              "     width=\"24px\">\n",
              "    <g>\n",
              "        <path d=\"M19 3H5c-1.1 0-2 .9-2 2v14c0 1.1.9 2 2 2h14c1.1 0 2-.9 2-2V5c0-1.1-.9-2-2-2zM9 17H7v-7h2v7zm4 0h-2V7h2v10zm4 0h-2v-4h2v4z\"/>\n",
              "    </g>\n",
              "</svg>\n",
              "  </button>\n",
              "\n",
              "<style>\n",
              "  .colab-df-quickchart {\n",
              "      --bg-color: #E8F0FE;\n",
              "      --fill-color: #1967D2;\n",
              "      --hover-bg-color: #E2EBFA;\n",
              "      --hover-fill-color: #174EA6;\n",
              "      --disabled-fill-color: #AAA;\n",
              "      --disabled-bg-color: #DDD;\n",
              "  }\n",
              "\n",
              "  [theme=dark] .colab-df-quickchart {\n",
              "      --bg-color: #3B4455;\n",
              "      --fill-color: #D2E3FC;\n",
              "      --hover-bg-color: #434B5C;\n",
              "      --hover-fill-color: #FFFFFF;\n",
              "      --disabled-bg-color: #3B4455;\n",
              "      --disabled-fill-color: #666;\n",
              "  }\n",
              "\n",
              "  .colab-df-quickchart {\n",
              "    background-color: var(--bg-color);\n",
              "    border: none;\n",
              "    border-radius: 50%;\n",
              "    cursor: pointer;\n",
              "    display: none;\n",
              "    fill: var(--fill-color);\n",
              "    height: 32px;\n",
              "    padding: 0;\n",
              "    width: 32px;\n",
              "  }\n",
              "\n",
              "  .colab-df-quickchart:hover {\n",
              "    background-color: var(--hover-bg-color);\n",
              "    box-shadow: 0 1px 2px rgba(60, 64, 67, 0.3), 0 1px 3px 1px rgba(60, 64, 67, 0.15);\n",
              "    fill: var(--button-hover-fill-color);\n",
              "  }\n",
              "\n",
              "  .colab-df-quickchart-complete:disabled,\n",
              "  .colab-df-quickchart-complete:disabled:hover {\n",
              "    background-color: var(--disabled-bg-color);\n",
              "    fill: var(--disabled-fill-color);\n",
              "    box-shadow: none;\n",
              "  }\n",
              "\n",
              "  .colab-df-spinner {\n",
              "    border: 2px solid var(--fill-color);\n",
              "    border-color: transparent;\n",
              "    border-bottom-color: var(--fill-color);\n",
              "    animation:\n",
              "      spin 1s steps(1) infinite;\n",
              "  }\n",
              "\n",
              "  @keyframes spin {\n",
              "    0% {\n",
              "      border-color: transparent;\n",
              "      border-bottom-color: var(--fill-color);\n",
              "      border-left-color: var(--fill-color);\n",
              "    }\n",
              "    20% {\n",
              "      border-color: transparent;\n",
              "      border-left-color: var(--fill-color);\n",
              "      border-top-color: var(--fill-color);\n",
              "    }\n",
              "    30% {\n",
              "      border-color: transparent;\n",
              "      border-left-color: var(--fill-color);\n",
              "      border-top-color: var(--fill-color);\n",
              "      border-right-color: var(--fill-color);\n",
              "    }\n",
              "    40% {\n",
              "      border-color: transparent;\n",
              "      border-right-color: var(--fill-color);\n",
              "      border-top-color: var(--fill-color);\n",
              "    }\n",
              "    60% {\n",
              "      border-color: transparent;\n",
              "      border-right-color: var(--fill-color);\n",
              "    }\n",
              "    80% {\n",
              "      border-color: transparent;\n",
              "      border-right-color: var(--fill-color);\n",
              "      border-bottom-color: var(--fill-color);\n",
              "    }\n",
              "    90% {\n",
              "      border-color: transparent;\n",
              "      border-bottom-color: var(--fill-color);\n",
              "    }\n",
              "  }\n",
              "</style>\n",
              "\n",
              "  <script>\n",
              "    async function quickchart(key) {\n",
              "      const quickchartButtonEl =\n",
              "        document.querySelector('#' + key + ' button');\n",
              "      quickchartButtonEl.disabled = true;  // To prevent multiple clicks.\n",
              "      quickchartButtonEl.classList.add('colab-df-spinner');\n",
              "      try {\n",
              "        const charts = await google.colab.kernel.invokeFunction(\n",
              "            'suggestCharts', [key], {});\n",
              "      } catch (error) {\n",
              "        console.error('Error during call to suggestCharts:', error);\n",
              "      }\n",
              "      quickchartButtonEl.classList.remove('colab-df-spinner');\n",
              "      quickchartButtonEl.classList.add('colab-df-quickchart-complete');\n",
              "    }\n",
              "    (() => {\n",
              "      let quickchartButtonEl =\n",
              "        document.querySelector('#df-96987edf-a6b9-4ad5-b46f-cf40564958e0 button');\n",
              "      quickchartButtonEl.style.display =\n",
              "        google.colab.kernel.accessAllowed ? 'block' : 'none';\n",
              "    })();\n",
              "  </script>\n",
              "</div>\n",
              "\n",
              "    </div>\n",
              "  </div>\n"
            ],
            "application/vnd.google.colaboratory.intrinsic+json": {
              "type": "dataframe",
              "variable_name": "df",
              "summary": "{\n  \"name\": \"df\",\n  \"rows\": 4115,\n  \"fields\": [\n    {\n      \"column\": \"Notes\",\n      \"properties\": {\n        \"dtype\": \"number\",\n        \"std\": null,\n        \"min\": null,\n        \"max\": null,\n        \"num_unique_values\": 0,\n        \"samples\": [],\n        \"semantic_type\": \"\",\n        \"description\": \"\"\n      }\n    },\n    {\n      \"column\": \"State\",\n      \"properties\": {\n        \"dtype\": \"category\",\n        \"num_unique_values\": 51,\n        \"samples\": [],\n        \"semantic_type\": \"\",\n        \"description\": \"\"\n      }\n    },\n    {\n      \"column\": \"State Code\",\n      \"properties\": {\n        \"dtype\": \"number\",\n        \"std\": 15,\n        \"min\": 1,\n        \"max\": 56,\n        \"num_unique_values\": 51,\n        \"samples\": [],\n        \"semantic_type\": \"\",\n        \"description\": \"\"\n      }\n    },\n    {\n      \"column\": \"Ten-Year Age Groups\",\n      \"properties\": {\n        \"dtype\": \"category\",\n        \"num_unique_values\": 12,\n        \"samples\": [],\n        \"semantic_type\": \"\",\n        \"description\": \"\"\n      }\n    },\n    {\n      \"column\": \"Ten-Year Age Groups Code\",\n      \"properties\": {\n        \"dtype\": \"category\",\n        \"num_unique_values\": 12,\n        \"samples\": [],\n        \"semantic_type\": \"\",\n        \"description\": \"\"\n      }\n    },\n    {\n      \"column\": \"Gender\",\n      \"properties\": {\n        \"dtype\": \"category\",\n        \"num_unique_values\": 2,\n        \"samples\": [],\n        \"semantic_type\": \"\",\n        \"description\": \"\"\n      }\n    },\n    {\n      \"column\": \"Gender Code\",\n      \"properties\": {\n        \"dtype\": \"category\",\n        \"num_unique_values\": 2,\n        \"samples\": [],\n        \"semantic_type\": \"\",\n        \"description\": \"\"\n      }\n    },\n    {\n      \"column\": \"Race\",\n      \"properties\": {\n        \"dtype\": \"category\",\n        \"num_unique_values\": 4,\n        \"samples\": [],\n        \"semantic_type\": \"\",\n        \"description\": \"\"\n      }\n    },\n    {\n      \"column\": \"Race Code\",\n      \"properties\": {\n        \"dtype\": \"category\",\n        \"num_unique_values\": 4,\n        \"samples\": [],\n        \"semantic_type\": \"\",\n        \"description\": \"\"\n      }\n    },\n    {\n      \"column\": \"Deaths\",\n      \"properties\": {\n        \"dtype\": \"number\",\n        \"std\": 39418,\n        \"min\": 10,\n        \"max\": 720306,\n        \"num_unique_values\": 2195,\n        \"samples\": [],\n        \"semantic_type\": \"\",\n        \"description\": \"\"\n      }\n    },\n    {\n      \"column\": \"Population\",\n      \"properties\": {\n        \"dtype\": \"string\",\n        \"num_unique_values\": 4009,\n        \"samples\": [],\n        \"semantic_type\": \"\",\n        \"description\": \"\"\n      }\n    },\n    {\n      \"column\": \"Crude Rate\",\n      \"properties\": {\n        \"dtype\": \"string\",\n        \"num_unique_values\": 3175,\n        \"samples\": [],\n        \"semantic_type\": \"\",\n        \"description\": \"\"\n      }\n    }\n  ]\n}"
            }
          },
          "metadata": {},
          "execution_count": 7
        }
      ],
      "source": [
        "# Your code here\n",
        "df.head()"
      ]
    },
    {
      "cell_type": "markdown",
      "metadata": {
        "id": "0T-6thVZhiZV"
      },
      "source": [
        "Our data is currently in **_Wide_** format.  We can tidy this up by converting it to **_Long_** format by using groupby statements to aggregate our data into a much neater, more readable format.\n",
        "\n",
        "## Groupby aggregations\n",
        "\n",
        "Complete the following groupby statements.\n",
        "\n",
        "- Groupby `State` and `Gender`. Sum the values."
      ]
    },
    {
      "cell_type": "code",
      "execution_count": 11,
      "metadata": {
        "id": "t6v-u4dchiZV",
        "outputId": "fd1addaa-aede-4810-d6e1-e69b2b6af378",
        "colab": {
          "base_uri": "https://localhost:8080/",
          "height": 269
        }
      },
      "outputs": [
        {
          "output_type": "execute_result",
          "data": {
            "text/plain": [
              "State    Gender\n",
              "Alabama  Female    430133\n",
              "         Male      430647\n",
              "Alaska   Female     27199\n",
              "         Male       36135\n",
              "Arizona  Female    396028\n",
              "Name: Deaths, dtype: int64"
            ],
            "text/html": [
              "<div>\n",
              "<style scoped>\n",
              "    .dataframe tbody tr th:only-of-type {\n",
              "        vertical-align: middle;\n",
              "    }\n",
              "\n",
              "    .dataframe tbody tr th {\n",
              "        vertical-align: top;\n",
              "    }\n",
              "\n",
              "    .dataframe thead th {\n",
              "        text-align: right;\n",
              "    }\n",
              "</style>\n",
              "<table border=\"1\" class=\"dataframe\">\n",
              "  <thead>\n",
              "    <tr style=\"text-align: right;\">\n",
              "      <th></th>\n",
              "      <th></th>\n",
              "      <th>Deaths</th>\n",
              "    </tr>\n",
              "    <tr>\n",
              "      <th>State</th>\n",
              "      <th>Gender</th>\n",
              "      <th></th>\n",
              "    </tr>\n",
              "  </thead>\n",
              "  <tbody>\n",
              "    <tr>\n",
              "      <th rowspan=\"2\" valign=\"top\">Alabama</th>\n",
              "      <th>Female</th>\n",
              "      <td>430133</td>\n",
              "    </tr>\n",
              "    <tr>\n",
              "      <th>Male</th>\n",
              "      <td>430647</td>\n",
              "    </tr>\n",
              "    <tr>\n",
              "      <th rowspan=\"2\" valign=\"top\">Alaska</th>\n",
              "      <th>Female</th>\n",
              "      <td>27199</td>\n",
              "    </tr>\n",
              "    <tr>\n",
              "      <th>Male</th>\n",
              "      <td>36135</td>\n",
              "    </tr>\n",
              "    <tr>\n",
              "      <th>Arizona</th>\n",
              "      <th>Female</th>\n",
              "      <td>396028</td>\n",
              "    </tr>\n",
              "  </tbody>\n",
              "</table>\n",
              "</div><br><label><b>dtype:</b> int64</label>"
            ]
          },
          "metadata": {},
          "execution_count": 11
        }
      ],
      "source": [
        "# Your code here\n",
        "df.groupby(['State', 'Gender'])['Deaths'].sum().head()"
      ]
    },
    {
      "cell_type": "markdown",
      "metadata": {
        "id": "h6buSV86hiZV"
      },
      "source": [
        "- Groupby `State`, `Gender`, and `Race`. Find the average values."
      ]
    },
    {
      "cell_type": "code",
      "execution_count": 12,
      "metadata": {
        "id": "bMG09D5ThiZW",
        "outputId": "72e21cd7-380f-49ee-a979-a3399e606e68",
        "colab": {
          "base_uri": "https://localhost:8080/",
          "height": 269
        }
      },
      "outputs": [
        {
          "output_type": "execute_result",
          "data": {
            "text/plain": [
              "State    Gender  Race                            \n",
              "Alabama  Female  American Indian or Alaska Native       70.875000\n",
              "                 Asian or Pacific Islander              95.500000\n",
              "                 Black or African American            9074.000000\n",
              "                 White                               29890.636364\n",
              "         Male    American Indian or Alaska Native       86.375000\n",
              "Name: Deaths, dtype: float64"
            ],
            "text/html": [
              "<div>\n",
              "<style scoped>\n",
              "    .dataframe tbody tr th:only-of-type {\n",
              "        vertical-align: middle;\n",
              "    }\n",
              "\n",
              "    .dataframe tbody tr th {\n",
              "        vertical-align: top;\n",
              "    }\n",
              "\n",
              "    .dataframe thead th {\n",
              "        text-align: right;\n",
              "    }\n",
              "</style>\n",
              "<table border=\"1\" class=\"dataframe\">\n",
              "  <thead>\n",
              "    <tr style=\"text-align: right;\">\n",
              "      <th></th>\n",
              "      <th></th>\n",
              "      <th></th>\n",
              "      <th>Deaths</th>\n",
              "    </tr>\n",
              "    <tr>\n",
              "      <th>State</th>\n",
              "      <th>Gender</th>\n",
              "      <th>Race</th>\n",
              "      <th></th>\n",
              "    </tr>\n",
              "  </thead>\n",
              "  <tbody>\n",
              "    <tr>\n",
              "      <th rowspan=\"5\" valign=\"top\">Alabama</th>\n",
              "      <th rowspan=\"4\" valign=\"top\">Female</th>\n",
              "      <th>American Indian or Alaska Native</th>\n",
              "      <td>70.875000</td>\n",
              "    </tr>\n",
              "    <tr>\n",
              "      <th>Asian or Pacific Islander</th>\n",
              "      <td>95.500000</td>\n",
              "    </tr>\n",
              "    <tr>\n",
              "      <th>Black or African American</th>\n",
              "      <td>9074.000000</td>\n",
              "    </tr>\n",
              "    <tr>\n",
              "      <th>White</th>\n",
              "      <td>29890.636364</td>\n",
              "    </tr>\n",
              "    <tr>\n",
              "      <th>Male</th>\n",
              "      <th>American Indian or Alaska Native</th>\n",
              "      <td>86.375000</td>\n",
              "    </tr>\n",
              "  </tbody>\n",
              "</table>\n",
              "</div><br><label><b>dtype:</b> float64</label>"
            ]
          },
          "metadata": {},
          "execution_count": 12
        }
      ],
      "source": [
        "# Your code here\n",
        "df.groupby(['State', 'Gender', 'Race'])['Deaths'].mean().head()"
      ]
    },
    {
      "cell_type": "markdown",
      "metadata": {
        "id": "ylpbjzsghiZW"
      },
      "source": [
        "- Groupby `Gender` and `Race`. Find the minimum values."
      ]
    },
    {
      "cell_type": "code",
      "execution_count": 13,
      "metadata": {
        "id": "DBJZAjaUhiZW",
        "outputId": "af1cf4b1-76fb-4f2d-8b90-eb4a482e4d83",
        "colab": {
          "base_uri": "https://localhost:8080/",
          "height": 269
        }
      },
      "outputs": [
        {
          "output_type": "execute_result",
          "data": {
            "text/plain": [
              "Gender  Race                            \n",
              "Female  American Indian or Alaska Native    10\n",
              "        Asian or Pacific Islander           10\n",
              "        Black or African American           10\n",
              "        White                               12\n",
              "Male    American Indian or Alaska Native    10\n",
              "Name: Deaths, dtype: int64"
            ],
            "text/html": [
              "<div>\n",
              "<style scoped>\n",
              "    .dataframe tbody tr th:only-of-type {\n",
              "        vertical-align: middle;\n",
              "    }\n",
              "\n",
              "    .dataframe tbody tr th {\n",
              "        vertical-align: top;\n",
              "    }\n",
              "\n",
              "    .dataframe thead th {\n",
              "        text-align: right;\n",
              "    }\n",
              "</style>\n",
              "<table border=\"1\" class=\"dataframe\">\n",
              "  <thead>\n",
              "    <tr style=\"text-align: right;\">\n",
              "      <th></th>\n",
              "      <th></th>\n",
              "      <th>Deaths</th>\n",
              "    </tr>\n",
              "    <tr>\n",
              "      <th>Gender</th>\n",
              "      <th>Race</th>\n",
              "      <th></th>\n",
              "    </tr>\n",
              "  </thead>\n",
              "  <tbody>\n",
              "    <tr>\n",
              "      <th rowspan=\"4\" valign=\"top\">Female</th>\n",
              "      <th>American Indian or Alaska Native</th>\n",
              "      <td>10</td>\n",
              "    </tr>\n",
              "    <tr>\n",
              "      <th>Asian or Pacific Islander</th>\n",
              "      <td>10</td>\n",
              "    </tr>\n",
              "    <tr>\n",
              "      <th>Black or African American</th>\n",
              "      <td>10</td>\n",
              "    </tr>\n",
              "    <tr>\n",
              "      <th>White</th>\n",
              "      <td>12</td>\n",
              "    </tr>\n",
              "    <tr>\n",
              "      <th>Male</th>\n",
              "      <th>American Indian or Alaska Native</th>\n",
              "      <td>10</td>\n",
              "    </tr>\n",
              "  </tbody>\n",
              "</table>\n",
              "</div><br><label><b>dtype:</b> int64</label>"
            ]
          },
          "metadata": {},
          "execution_count": 13
        }
      ],
      "source": [
        "# Your code here\n",
        "df.groupby(['Gender', 'Race'])['Deaths'].min().head()"
      ]
    },
    {
      "cell_type": "markdown",
      "metadata": {
        "id": "sfdpep2GhiZX"
      },
      "source": [
        "Create a bar chart of the total number of deaths by state:\n",
        "\n",
        "* Sort your columns in order (ascending or descending are both acceptable).  \n",
        "* Also make sure to include a title, axes labels and have your graph be an appropriate size.\n",
        "\n",
        "**_NOTE:_** In order to do this, slice the `Deaths` column after the `.groupby()` method, but before the `.sum()` method.  You can even chain the `.plot()` method on after the `.sum()` method and do this all on one line, excluding the labeling of the graph."
      ]
    },
    {
      "cell_type": "code",
      "execution_count": 17,
      "metadata": {
        "id": "YtaNLteGhiZX",
        "outputId": "43b58884-cccc-477d-d0a2-5c2b8e69f52f",
        "colab": {
          "base_uri": "https://localhost:8080/",
          "height": 859
        }
      },
      "outputs": [
        {
          "output_type": "execute_result",
          "data": {
            "text/plain": [
              "<Axes: title={'center': 'Deaths by State'}, xlabel='State'>"
            ]
          },
          "metadata": {},
          "execution_count": 17
        },
        {
          "output_type": "display_data",
          "data": {
            "text/plain": [
              "<Figure size 1500x800 with 1 Axes>"
            ],
            "image/png": "[encoded data removed]"
          },
          "metadata": {}
        }
      ],
      "source": [
        "# Your code here\n",
        "df.groupby('State')['Deaths'].sum().sort_values().plot(kind='bar', figsize=(15,8), title='Deaths by State')"
      ]
    },
    {
      "cell_type": "markdown",
      "metadata": {
        "id": "B__9WUguhiZX"
      },
      "source": [
        "### Inspecting our data\n",
        "\n",
        "Let's go one step further and print the data type of each column.\n",
        "\n",
        "In the cell below, use the `.info()` method of the DataFrame, and note the data type that each column is currently stored as.  "
      ]
    },
    {
      "cell_type": "code",
      "execution_count": 18,
      "metadata": {
        "id": "WrtIPBCmhiZX",
        "outputId": "7944a8f2-0be0-401f-bfc4-909e1de38e31",
        "colab": {
          "base_uri": "https://localhost:8080/"
        }
      },
      "outputs": [
        {
          "output_type": "stream",
          "name": "stdout",
          "text": [
            "<class 'pandas.core.frame.DataFrame'>\n",
            "RangeIndex: 4115 entries, 0 to 4114\n",
            "Data columns (total 12 columns):\n",
            " #   Column                    Non-Null Count  Dtype  \n",
            "---  ------                    --------------  -----  \n",
            " 0   Notes                     0 non-null      float64\n",
            " 1   State                     4115 non-null   object \n",
            " 2   State Code                4115 non-null   int64  \n",
            " 3   Ten-Year Age Groups       4115 non-null   object \n",
            " 4   Ten-Year Age Groups Code  4115 non-null   object \n",
            " 5   Gender                    4115 non-null   object \n",
            " 6   Gender Code               4115 non-null   object \n",
            " 7   Race                      4115 non-null   object \n",
            " 8   Race Code                 4115 non-null   object \n",
            " 9   Deaths                    4115 non-null   int64  \n",
            " 10  Population                4115 non-null   object \n",
            " 11  Crude Rate                4115 non-null   object \n",
            "dtypes: float64(1), int64(2), object(9)\n",
            "memory usage: 385.9+ KB\n"
          ]
        }
      ],
      "source": [
        "df.info()"
      ]
    },
    {
      "cell_type": "markdown",
      "metadata": {
        "id": "OJm-zo7ShiZX"
      },
      "source": [
        "Let's look at some samples from the `Population` column to see if the current encoding seems appropriate for the data it contains.\n",
        "\n",
        "In the cell below, display the population values for the first 5 rows in the DataFrame.  "
      ]
    },
    {
      "cell_type": "code",
      "execution_count": 19,
      "metadata": {
        "id": "ptYC2WbThiZX",
        "outputId": "19598080-c3b4-4540-99ee-6344b8dda28f",
        "colab": {
          "base_uri": "https://localhost:8080/",
          "height": 238
        }
      },
      "outputs": [
        {
          "output_type": "execute_result",
          "data": {
            "text/plain": [
              "0      3579\n",
              "1      7443\n",
              "2    169339\n",
              "3    347921\n",
              "4      7366\n",
              "Name: Population, dtype: object"
            ],
            "text/html": [
              "<div>\n",
              "<style scoped>\n",
              "    .dataframe tbody tr th:only-of-type {\n",
              "        vertical-align: middle;\n",
              "    }\n",
              "\n",
              "    .dataframe tbody tr th {\n",
              "        vertical-align: top;\n",
              "    }\n",
              "\n",
              "    .dataframe thead th {\n",
              "        text-align: right;\n",
              "    }\n",
              "</style>\n",
              "<table border=\"1\" class=\"dataframe\">\n",
              "  <thead>\n",
              "    <tr style=\"text-align: right;\">\n",
              "      <th></th>\n",
              "      <th>Population</th>\n",
              "    </tr>\n",
              "  </thead>\n",
              "  <tbody>\n",
              "    <tr>\n",
              "      <th>0</th>\n",
              "      <td>3579</td>\n",
              "    </tr>\n",
              "    <tr>\n",
              "      <th>1</th>\n",
              "      <td>7443</td>\n",
              "    </tr>\n",
              "    <tr>\n",
              "      <th>2</th>\n",
              "      <td>169339</td>\n",
              "    </tr>\n",
              "    <tr>\n",
              "      <th>3</th>\n",
              "      <td>347921</td>\n",
              "    </tr>\n",
              "    <tr>\n",
              "      <th>4</th>\n",
              "      <td>7366</td>\n",
              "    </tr>\n",
              "  </tbody>\n",
              "</table>\n",
              "</div><br><label><b>dtype:</b> object</label>"
            ]
          },
          "metadata": {},
          "execution_count": 19
        }
      ],
      "source": [
        "df['Population'].head()"
      ]
    },
    {
      "cell_type": "markdown",
      "metadata": {
        "id": "0AzasIVDhiZX"
      },
      "source": [
        "Just to be extra sure, let's check the value counts to see how many times each unique value shows up in the dataset. We'll only look at the top 5.\n",
        "\n",
        "In the cell below, print out the top 5 `value_counts()` of the population column of the DataFrame."
      ]
    },
    {
      "cell_type": "code",
      "execution_count": 20,
      "metadata": {
        "id": "21MRgBY8hiZX",
        "outputId": "254dc97a-5cfe-4424-825d-2990fe353f69",
        "colab": {
          "base_uri": "https://localhost:8080/",
          "height": 269
        }
      },
      "outputs": [
        {
          "output_type": "execute_result",
          "data": {
            "text/plain": [
              "Population\n",
              "Not Applicable    75\n",
              "2777               2\n",
              "16653              2\n",
              "3240               2\n",
              "907                2\n",
              "Name: count, dtype: int64"
            ],
            "text/html": [
              "<div>\n",
              "<style scoped>\n",
              "    .dataframe tbody tr th:only-of-type {\n",
              "        vertical-align: middle;\n",
              "    }\n",
              "\n",
              "    .dataframe tbody tr th {\n",
              "        vertical-align: top;\n",
              "    }\n",
              "\n",
              "    .dataframe thead th {\n",
              "        text-align: right;\n",
              "    }\n",
              "</style>\n",
              "<table border=\"1\" class=\"dataframe\">\n",
              "  <thead>\n",
              "    <tr style=\"text-align: right;\">\n",
              "      <th></th>\n",
              "      <th>count</th>\n",
              "    </tr>\n",
              "    <tr>\n",
              "      <th>Population</th>\n",
              "      <th></th>\n",
              "    </tr>\n",
              "  </thead>\n",
              "  <tbody>\n",
              "    <tr>\n",
              "      <th>Not Applicable</th>\n",
              "      <td>75</td>\n",
              "    </tr>\n",
              "    <tr>\n",
              "      <th>2777</th>\n",
              "      <td>2</td>\n",
              "    </tr>\n",
              "    <tr>\n",
              "      <th>16653</th>\n",
              "      <td>2</td>\n",
              "    </tr>\n",
              "    <tr>\n",
              "      <th>3240</th>\n",
              "      <td>2</td>\n",
              "    </tr>\n",
              "    <tr>\n",
              "      <th>907</th>\n",
              "      <td>2</td>\n",
              "    </tr>\n",
              "  </tbody>\n",
              "</table>\n",
              "</div><br><label><b>dtype:</b> int64</label>"
            ]
          },
          "metadata": {},
          "execution_count": 20
        }
      ],
      "source": [
        "df['Population'].value_counts().head()"
      ]
    },
    {
      "cell_type": "markdown",
      "metadata": {
        "id": "TPuBllTnhiZX"
      },
      "source": [
        "Clearly, this data should be stored as a numeric type, not a categorical type.  \n",
        "\n",
        "### Reformat the `Population` column as an integer\n",
        "As it stands, not all values can be reformated as integers. Most of the cells in the `Population` column contain integer values, but the entire column is currently encoded in string format because some cells contain the string `'Not Applicable'`.\n",
        "\n",
        "We need to remove these rows before we can cast the `Population` column to an integer data type.\n",
        "\n",
        "In the cell below:\n",
        "\n",
        "* Slice the rows of `df` where the `Population` column is equal to `'Not Applicable'`  \n",
        "* Use `to_drop.index` to drop the offending rows from `df`. Be sure to set the `axis=0`, and `inplace=True`  \n",
        "* Cast the `Population` column to an integer data type using the `.astype()` method, with the single parameter `int64` passed in  \n",
        "* Print the `Population` column's `dtype` attribute to confirm it is now stored in `int64` format  \n",
        "\n",
        "\n",
        "**_NOTE:_** `.astype()` returns a copy of the column, so make sure you set the Population column equal to what this method returns--don't just call it."
      ]
    },
    {
      "cell_type": "code",
      "execution_count": 21,
      "metadata": {
        "id": "yn2Ze2plhiZY",
        "outputId": "8f9141fc-f46a-4ffa-8db1-aebc9c149eff",
        "colab": {
          "base_uri": "https://localhost:8080/"
        }
      },
      "outputs": [
        {
          "output_type": "execute_result",
          "data": {
            "text/plain": [
              "dtype('int64')"
            ]
          },
          "metadata": {},
          "execution_count": 21
        }
      ],
      "source": [
        "# Your code here\n",
        "to_drop = df[df['Population'] == 'Not Applicable']\n",
        "df.drop(to_drop.index, axis=0, inplace=True)\n",
        "df['Population'] = df['Population'].astype('int64')\n",
        "df['Population'].dtype"
      ]
    },
    {
      "cell_type": "markdown",
      "metadata": {
        "id": "zQ5ubZWShiZY"
      },
      "source": [
        "### Complete the bar chart\n",
        "\n",
        "Now that we've reformatted our data, let's create a bar chart of the mean `Population` by `State`."
      ]
    },
    {
      "cell_type": "code",
      "execution_count": 22,
      "metadata": {
        "id": "12c2aWBChiZY",
        "outputId": "cbf761a0-b615-42dd-e0ed-7d416392af79",
        "colab": {
          "base_uri": "https://localhost:8080/",
          "height": 859
        }
      },
      "outputs": [
        {
          "output_type": "execute_result",
          "data": {
            "text/plain": [
              "<Axes: title={'center': 'Population by State'}, xlabel='State'>"
            ]
          },
          "metadata": {},
          "execution_count": 22
        },
        {
          "output_type": "display_data",
          "data": {
            "text/plain": [
              "<Figure size 1500x800 with 1 Axes>"
            ],
            "image/png": "[encoded data removed]"
          },
          "metadata": {}
        }
      ],
      "source": [
        "# Your code here\n",
        "df.groupby('State')['Population'].mean().sort_values().plot(kind='bar', figsize=(15,8), title='Population by State')"
      ]
    },
    {
      "cell_type": "markdown",
      "metadata": {
        "id": "pAYgdsIWhiZY"
      },
      "source": [
        "Below we will investigate how we can combine the `.pivot()` method along with the `.groupby()` method to combine some cool **stacked bar charts**.\n",
        "\n",
        "## Use aggregate methods\n",
        "\n",
        "In the cell below:\n",
        "\n",
        "* Group `df` by `'State'` and  `'Gender'`, and then slice both `'Deaths'` and `'Population'` from it. Chain the `.agg()` method to return the mean, min, max, and standard deviation of these sliced columns.\n",
        "\n",
        "**_NOTE:_** This only requires one line of code.  \n",
        "\n",
        "By now, you've probably caught on that the code required to do this follows this pattern:    `([things to group by])[columns to slice].agg([aggregates to return])`\n",
        "\n",
        "Then, display the `.head()` of this new DataFrame."
      ]
    },
    {
      "cell_type": "code",
      "execution_count": 23,
      "metadata": {
        "id": "Ui54VKL9hiZY",
        "outputId": "ecf33efd-764b-4c46-89fd-6b21896db2cd",
        "colab": {
          "base_uri": "https://localhost:8080/",
          "height": 266
        }
      },
      "outputs": [
        {
          "output_type": "execute_result",
          "data": {
            "text/plain": [
              "                      Deaths                              Population         \\\n",
              "                        mean min     max           std          mean    min   \n",
              "State   Gender                                                                \n",
              "Alabama Female  10753.325000  10  116297  24612.250487  1.078713e+06   2087   \n",
              "        Male    10765.850000  10   88930  20813.538537  1.014946e+06   1129   \n",
              "Alaska  Female    679.975000  13    4727   1154.870455  1.440403e+05   1224   \n",
              "        Male      860.357143  12    5185   1411.777392  1.518884e+05    578   \n",
              "Arizona Female   8998.386364  21  133923  26245.941003  1.246502e+06  12211   \n",
              "\n",
              "                                       \n",
              "                    max           std  \n",
              "State   Gender                         \n",
              "Alabama Female  4334752  1.400309e+06  \n",
              "        Male    4284775  1.397830e+06  \n",
              "Alaska  Female   682855  2.015793e+05  \n",
              "        Male     770502  2.238843e+05  \n",
              "Arizona Female  6265346  2.096632e+06  "
            ],
            "text/html": [
              "\n",
              "  <div id=\"df-84bfdbbb-3aa1-4f51-a78d-a4765fcc08dc\" class=\"colab-df-container\">\n",
              "    <div>\n",
              "<style scoped>\n",
              "    .dataframe tbody tr th:only-of-type {\n",
              "        vertical-align: middle;\n",
              "    }\n",
              "\n",
              "    .dataframe tbody tr th {\n",
              "        vertical-align: top;\n",
              "    }\n",
              "\n",
              "    .dataframe thead tr th {\n",
              "        text-align: left;\n",
              "    }\n",
              "\n",
              "    .dataframe thead tr:last-of-type th {\n",
              "        text-align: right;\n",
              "    }\n",
              "</style>\n",
              "<table border=\"1\" class=\"dataframe\">\n",
              "  <thead>\n",
              "    <tr>\n",
              "      <th></th>\n",
              "      <th></th>\n",
              "      <th colspan=\"4\" halign=\"left\">Deaths</th>\n",
              "      <th colspan=\"4\" halign=\"left\">Population</th>\n",
              "    </tr>\n",
              "    <tr>\n",
              "      <th></th>\n",
              "      <th></th>\n",
              "      <th>mean</th>\n",
              "      <th>min</th>\n",
              "      <th>max</th>\n",
              "      <th>std</th>\n",
              "      <th>mean</th>\n",
              "      <th>min</th>\n",
              "      <th>max</th>\n",
              "      <th>std</th>\n",
              "    </tr>\n",
              "    <tr>\n",
              "      <th>State</th>\n",
              "      <th>Gender</th>\n",
              "      <th></th>\n",
              "      <th></th>\n",
              "      <th></th>\n",
              "      <th></th>\n",
              "      <th></th>\n",
              "      <th></th>\n",
              "      <th></th>\n",
              "      <th></th>\n",
              "    </tr>\n",
              "  </thead>\n",
              "  <tbody>\n",
              "    <tr>\n",
              "      <th rowspan=\"2\" valign=\"top\">Alabama</th>\n",
              "      <th>Female</th>\n",
              "      <td>10753.325000</td>\n",
              "      <td>10</td>\n",
              "      <td>116297</td>\n",
              "      <td>24612.250487</td>\n",
              "      <td>1.078713e+06</td>\n",
              "      <td>2087</td>\n",
              "      <td>4334752</td>\n",
              "      <td>1.400309e+06</td>\n",
              "    </tr>\n",
              "    <tr>\n",
              "      <th>Male</th>\n",
              "      <td>10765.850000</td>\n",
              "      <td>10</td>\n",
              "      <td>88930</td>\n",
              "      <td>20813.538537</td>\n",
              "      <td>1.014946e+06</td>\n",
              "      <td>1129</td>\n",
              "      <td>4284775</td>\n",
              "      <td>1.397830e+06</td>\n",
              "    </tr>\n",
              "    <tr>\n",
              "      <th rowspan=\"2\" valign=\"top\">Alaska</th>\n",
              "      <th>Female</th>\n",
              "      <td>679.975000</td>\n",
              "      <td>13</td>\n",
              "      <td>4727</td>\n",
              "      <td>1154.870455</td>\n",
              "      <td>1.440403e+05</td>\n",
              "      <td>1224</td>\n",
              "      <td>682855</td>\n",
              "      <td>2.015793e+05</td>\n",
              "    </tr>\n",
              "    <tr>\n",
              "      <th>Male</th>\n",
              "      <td>860.357143</td>\n",
              "      <td>12</td>\n",
              "      <td>5185</td>\n",
              "      <td>1411.777392</td>\n",
              "      <td>1.518884e+05</td>\n",
              "      <td>578</td>\n",
              "      <td>770502</td>\n",
              "      <td>2.238843e+05</td>\n",
              "    </tr>\n",
              "    <tr>\n",
              "      <th>Arizona</th>\n",
              "      <th>Female</th>\n",
              "      <td>8998.386364</td>\n",
              "      <td>21</td>\n",
              "      <td>133923</td>\n",
              "      <td>26245.941003</td>\n",
              "      <td>1.246502e+06</td>\n",
              "      <td>12211</td>\n",
              "      <td>6265346</td>\n",
              "      <td>2.096632e+06</td>\n",
              "    </tr>\n",
              "  </tbody>\n",
              "</table>\n",
              "</div>\n",
              "    <div class=\"colab-df-buttons\">\n",
              "\n",
              "  <div class=\"colab-df-container\">\n",
              "    <button class=\"colab-df-convert\" onclick=\"convertToInteractive('df-84bfdbbb-3aa1-4f51-a78d-a4765fcc08dc')\"\n",
              "            title=\"Convert this dataframe to an interactive table.\"\n",
              "            style=\"display:none;\">\n",
              "\n",
              "  <svg xmlns=\"http://www.w3.org/2000/svg\" height=\"24px\" viewBox=\"0 -960 960 960\">\n",
              "    <path d=\"M120-120v-720h720v720H120Zm60-500h600v-160H180v160Zm220 220h160v-160H400v160Zm0 220h160v-160H400v160ZM180-400h160v-160H180v160Zm440 0h160v-160H620v160ZM180-180h160v-160H180v160Zm440 0h160v-160H620v160Z\"/>\n",
              "  </svg>\n",
              "    </button>\n",
              "\n",
              "  <style>\n",
              "    .colab-df-container {\n",
              "      display:flex;\n",
              "      gap: 12px;\n",
              "    }\n",
              "\n",
              "    .colab-df-convert {\n",
              "      background-color: #E8F0FE;\n",
              "      border: none;\n",
              "      border-radius: 50%;\n",
              "      cursor: pointer;\n",
              "      display: none;\n",
              "      fill: #1967D2;\n",
              "      height: 32px;\n",
              "      padding: 0 0 0 0;\n",
              "      width: 32px;\n",
              "    }\n",
              "\n",
              "    .colab-df-convert:hover {\n",
              "      background-color: #E2EBFA;\n",
              "      box-shadow: 0px 1px 2px rgba(60, 64, 67, 0.3), 0px 1px 3px 1px rgba(60, 64, 67, 0.15);\n",
              "      fill: #174EA6;\n",
              "    }\n",
              "\n",
              "    .colab-df-buttons div {\n",
              "      margin-bottom: 4px;\n",
              "    }\n",
              "\n",
              "    [theme=dark] .colab-df-convert {\n",
              "      background-color: #3B4455;\n",
              "      fill: #D2E3FC;\n",
              "    }\n",
              "\n",
              "    [theme=dark] .colab-df-convert:hover {\n",
              "      background-color: #434B5C;\n",
              "      box-shadow: 0px 1px 3px 1px rgba(0, 0, 0, 0.15);\n",
              "      filter: drop-shadow(0px 1px 2px rgba(0, 0, 0, 0.3));\n",
              "      fill: #FFFFFF;\n",
              "    }\n",
              "  </style>\n",
              "\n",
              "    <script>\n",
              "      const buttonEl =\n",
              "        document.querySelector('#df-84bfdbbb-3aa1-4f51-a78d-a4765fcc08dc button.colab-df-convert');\n",
              "      buttonEl.style.display =\n",
              "        google.colab.kernel.accessAllowed ? 'block' : 'none';\n",
              "\n",
              "      async function convertToInteractive(key) {\n",
              "        const element = document.querySelector('#df-84bfdbbb-3aa1-4f51-a78d-a4765fcc08dc');\n",
              "        const dataTable =\n",
              "          await google.colab.kernel.invokeFunction('convertToInteractive',\n",
              "                                                    [key], {});\n",
              "        if (!dataTable) return;\n",
              "\n",
              "        const docLinkHtml = 'Like what you see? Visit the ' +\n",
              "          '<a target=\"_blank\" href=https://colab.research.google.com/notebooks/data_table.ipynb>data table notebook</a>'\n",
              "          + ' to learn more about interactive tables.';\n",
              "        element.innerHTML = '';\n",
              "        dataTable['output_type'] = 'display_data';\n",
              "        await google.colab.output.renderOutput(dataTable, element);\n",
              "        const docLink = document.createElement('div');\n",
              "        docLink.innerHTML = docLinkHtml;\n",
              "        element.appendChild(docLink);\n",
              "      }\n",
              "    </script>\n",
              "  </div>\n",
              "\n",
              "\n",
              "<div id=\"df-c9fec799-11e7-4dbe-b49a-e04288eda970\">\n",
              "  <button class=\"colab-df-quickchart\" onclick=\"quickchart('df-c9fec799-11e7-4dbe-b49a-e04288eda970')\"\n",
              "            title=\"Suggest charts\"\n",
              "            style=\"display:none;\">\n",
              "\n",
              "<svg xmlns=\"http://www.w3.org/2000/svg\" height=\"24px\"viewBox=\"0 0 24 24\"\n",
              "     width=\"24px\">\n",
              "    <g>\n",
              "        <path d=\"M19 3H5c-1.1 0-2 .9-2 2v14c0 1.1.9 2 2 2h14c1.1 0 2-.9 2-2V5c0-1.1-.9-2-2-2zM9 17H7v-7h2v7zm4 0h-2V7h2v10zm4 0h-2v-4h2v4z\"/>\n",
              "    </g>\n",
              "</svg>\n",
              "  </button>\n",
              "\n",
              "<style>\n",
              "  .colab-df-quickchart {\n",
              "      --bg-color: #E8F0FE;\n",
              "      --fill-color: #1967D2;\n",
              "      --hover-bg-color: #E2EBFA;\n",
              "      --hover-fill-color: #174EA6;\n",
              "      --disabled-fill-color: #AAA;\n",
              "      --disabled-bg-color: #DDD;\n",
              "  }\n",
              "\n",
              "  [theme=dark] .colab-df-quickchart {\n",
              "      --bg-color: #3B4455;\n",
              "      --fill-color: #D2E3FC;\n",
              "      --hover-bg-color: #434B5C;\n",
              "      --hover-fill-color: #FFFFFF;\n",
              "      --disabled-bg-color: #3B4455;\n",
              "      --disabled-fill-color: #666;\n",
              "  }\n",
              "\n",
              "  .colab-df-quickchart {\n",
              "    background-color: var(--bg-color);\n",
              "    border: none;\n",
              "    border-radius: 50%;\n",
              "    cursor: pointer;\n",
              "    display: none;\n",
              "    fill: var(--fill-color);\n",
              "    height: 32px;\n",
              "    padding: 0;\n",
              "    width: 32px;\n",
              "  }\n",
              "\n",
              "  .colab-df-quickchart:hover {\n",
              "    background-color: var(--hover-bg-color);\n",
              "    box-shadow: 0 1px 2px rgba(60, 64, 67, 0.3), 0 1px 3px 1px rgba(60, 64, 67, 0.15);\n",
              "    fill: var(--button-hover-fill-color);\n",
              "  }\n",
              "\n",
              "  .colab-df-quickchart-complete:disabled,\n",
              "  .colab-df-quickchart-complete:disabled:hover {\n",
              "    background-color: var(--disabled-bg-color);\n",
              "    fill: var(--disabled-fill-color);\n",
              "    box-shadow: none;\n",
              "  }\n",
              "\n",
              "  .colab-df-spinner {\n",
              "    border: 2px solid var(--fill-color);\n",
              "    border-color: transparent;\n",
              "    border-bottom-color: var(--fill-color);\n",
              "    animation:\n",
              "      spin 1s steps(1) infinite;\n",
              "  }\n",
              "\n",
              "  @keyframes spin {\n",
              "    0% {\n",
              "      border-color: transparent;\n",
              "      border-bottom-color: var(--fill-color);\n",
              "      border-left-color: var(--fill-color);\n",
              "    }\n",
              "    20% {\n",
              "      border-color: transparent;\n",
              "      border-left-color: var(--fill-color);\n",
              "      border-top-color: var(--fill-color);\n",
              "    }\n",
              "    30% {\n",
              "      border-color: transparent;\n",
              "      border-left-color: var(--fill-color);\n",
              "      border-top-color: var(--fill-color);\n",
              "      border-right-color: var(--fill-color);\n",
              "    }\n",
              "    40% {\n",
              "      border-color: transparent;\n",
              "      border-right-color: var(--fill-color);\n",
              "      border-top-color: var(--fill-color);\n",
              "    }\n",
              "    60% {\n",
              "      border-color: transparent;\n",
              "      border-right-color: var(--fill-color);\n",
              "    }\n",
              "    80% {\n",
              "      border-color: transparent;\n",
              "      border-right-color: var(--fill-color);\n",
              "      border-bottom-color: var(--fill-color);\n",
              "    }\n",
              "    90% {\n",
              "      border-color: transparent;\n",
              "      border-bottom-color: var(--fill-color);\n",
              "    }\n",
              "  }\n",
              "</style>\n",
              "\n",
              "  <script>\n",
              "    async function quickchart(key) {\n",
              "      const quickchartButtonEl =\n",
              "        document.querySelector('#' + key + ' button');\n",
              "      quickchartButtonEl.disabled = true;  // To prevent multiple clicks.\n",
              "      quickchartButtonEl.classList.add('colab-df-spinner');\n",
              "      try {\n",
              "        const charts = await google.colab.kernel.invokeFunction(\n",
              "            'suggestCharts', [key], {});\n",
              "      } catch (error) {\n",
              "        console.error('Error during call to suggestCharts:', error);\n",
              "      }\n",
              "      quickchartButtonEl.classList.remove('colab-df-spinner');\n",
              "      quickchartButtonEl.classList.add('colab-df-quickchart-complete');\n",
              "    }\n",
              "    (() => {\n",
              "      let quickchartButtonEl =\n",
              "        document.querySelector('#df-c9fec799-11e7-4dbe-b49a-e04288eda970 button');\n",
              "      quickchartButtonEl.style.display =\n",
              "        google.colab.kernel.accessAllowed ? 'block' : 'none';\n",
              "    })();\n",
              "  </script>\n",
              "</div>\n",
              "\n",
              "    </div>\n",
              "  </div>\n"
            ],
            "application/vnd.google.colaboratory.intrinsic+json": {
              "type": "dataframe",
              "variable_name": "grouped",
              "summary": "{\n  \"name\": \"grouped\",\n  \"rows\": 102,\n  \"fields\": [\n    {\n      \"column\": [\n        \"Deaths\",\n        \"mean\"\n      ],\n      \"properties\": {\n        \"dtype\": \"number\",\n        \"std\": 10212.841448929348,\n        \"min\": 679.975,\n        \"max\": 49555.52272727273,\n        \"num_unique_values\": 102,\n        \"samples\": [\n          6419.707317073171,\n          15750.40909090909,\n          3153.5238095238096\n        ],\n        \"semantic_type\": \"\",\n        \"description\": \"\"\n      }\n    },\n    {\n      \"column\": [\n        \"Deaths\",\n        \"min\"\n      ],\n      \"properties\": {\n        \"dtype\": \"number\",\n        \"std\": 6,\n        \"min\": 10,\n        \"max\": 42,\n        \"num_unique_values\": 19,\n        \"samples\": [\n          10,\n          11,\n          17\n        ],\n        \"semantic_type\": \"\",\n        \"description\": \"\"\n      }\n    },\n    {\n      \"column\": [\n        \"Deaths\",\n        \"max\"\n      ],\n      \"properties\": {\n        \"dtype\": \"number\",\n        \"std\": 134922,\n        \"min\": 4727,\n        \"max\": 720306,\n        \"num_unique_values\": 102,\n        \"samples\": [\n          122259,\n          148286,\n          43135\n        ],\n        \"semantic_type\": \"\",\n        \"description\": \"\"\n      }\n    },\n    {\n      \"column\": [\n        \"Deaths\",\n        \"std\"\n      ],\n      \"properties\": {\n        \"dtype\": \"number\",\n        \"std\": 26449.352821148535,\n        \"min\": 1154.8704553281045,\n        \"max\": 132121.21767228254,\n        \"num_unique_values\": 102,\n        \"samples\": [\n          21916.903740314123,\n          33010.34391958402,\n          8610.933416552316\n        ],\n        \"semantic_type\": \"\",\n        \"description\": \"\"\n      }\n    },\n    {\n      \"column\": [\n        \"Population\",\n        \"mean\"\n      ],\n      \"properties\": {\n        \"dtype\": \"number\",\n        \"std\": 1363927.0877415114,\n        \"min\": 139223.6,\n        \"max\": 7511866.0,\n        \"num_unique_values\": 102,\n        \"samples\": [\n          668510.9756097561,\n          1817507.8863636365,\n          427511.78571428574\n        ],\n        \"semantic_type\": \"\",\n        \"description\": \"\"\n      }\n    },\n    {\n      \"column\": [\n        \"Population\",\n        \"min\"\n      ],\n      \"properties\": {\n        \"dtype\": \"number\",\n        \"std\": 4934,\n        \"min\": 132,\n        \"max\": 40061,\n        \"num_unique_values\": 99,\n        \"samples\": [\n          1310,\n          845,\n          3376\n        ],\n        \"semantic_type\": \"\",\n        \"description\": \"\"\n      }\n    },\n    {\n      \"column\": [\n        \"Population\",\n        \"max\"\n      ],\n      \"properties\": {\n        \"dtype\": \"number\",\n        \"std\": 6801198,\n        \"min\": 598018,\n        \"max\": 38013386,\n        \"num_unique_values\": 102,\n        \"samples\": [\n          3621012,\n          8712243,\n          2162104\n        ],\n        \"semantic_type\": \"\",\n        \"description\": \"\"\n      }\n    },\n    {\n      \"column\": [\n        \"Population\",\n        \"std\"\n      ],\n      \"properties\": {\n        \"dtype\": \"number\",\n        \"std\": 2095937.6429451716,\n        \"min\": 166440.84536771098,\n        \"max\": 11612117.409853827,\n        \"num_unique_values\": 102,\n        \"samples\": [\n          1192866.195377325,\n          2727867.3575827,\n          692061.8695526498\n        ],\n        \"semantic_type\": \"\",\n        \"description\": \"\"\n      }\n    }\n  ]\n}"
            }
          },
          "metadata": {},
          "execution_count": 23
        }
      ],
      "source": [
        "# Your code here\n",
        "grouped = df.groupby(['State', 'Gender'])[['Deaths', 'Population']].agg(['mean', 'min', 'max', 'std'])\n",
        "grouped.head()"
      ]
    },
    {
      "cell_type": "markdown",
      "metadata": {
        "id": "1EIby957hiZY"
      },
      "source": [
        "Note how Pandas denotes a multi-hierarchical index in the DataFrame above.  \n",
        "\n",
        "Let's inspect how a multi-hierarchical index is actually stored.  \n",
        "\n",
        "In the cell below, display the `index` attribute of this DataFrame."
      ]
    },
    {
      "cell_type": "code",
      "execution_count": 25,
      "metadata": {
        "id": "yO2rmgJihiZY",
        "outputId": "dbc1d6d8-5f0e-4908-8191-697e3a4f7164",
        "colab": {
          "base_uri": "https://localhost:8080/"
        }
      },
      "outputs": [
        {
          "output_type": "execute_result",
          "data": {
            "text/plain": [
              "MultiIndex([(      'Alabama', 'Female'),\n",
              "            (      'Alabama',   'Male'),\n",
              "            (       'Alaska', 'Female'),\n",
              "            (       'Alaska',   'Male'),\n",
              "            (      'Arizona', 'Female'),\n",
              "            (      'Arizona',   'Male'),\n",
              "            (     'Arkansas', 'Female'),\n",
              "            (     'Arkansas',   'Male'),\n",
              "            (   'California', 'Female'),\n",
              "            (   'California',   'Male'),\n",
              "            ...\n",
              "            (     'Virginia', 'Female'),\n",
              "            (     'Virginia',   'Male'),\n",
              "            (   'Washington', 'Female'),\n",
              "            (   'Washington',   'Male'),\n",
              "            ('West Virginia', 'Female'),\n",
              "            ('West Virginia',   'Male'),\n",
              "            (    'Wisconsin', 'Female'),\n",
              "            (    'Wisconsin',   'Male'),\n",
              "            (      'Wyoming', 'Female'),\n",
              "            (      'Wyoming',   'Male')],\n",
              "           names=['State', 'Gender'], length=102)"
            ]
          },
          "metadata": {},
          "execution_count": 25
        }
      ],
      "source": [
        "#Display index attibute of this dataframe\n",
        "df.groupby(['State', 'Gender'])[['Deaths', 'Population']].agg(['mean', 'min', 'max', 'std']).index"
      ]
    },
    {
      "cell_type": "markdown",
      "metadata": {
        "id": "kvZ2xvXMhiZY"
      },
      "source": [
        "A two-dimensional array denotes the multiple levels, with each possible combination being a row in our `grouped` DataFrame.  \n",
        "\n",
        "Let's reset the index, and then see how it changes.\n",
        "\n",
        "In the cell below, call the DataFrame's `.reset_index()` method.  Then, display the `.head()` of the DataFrame.  "
      ]
    },
    {
      "cell_type": "code",
      "execution_count": 26,
      "metadata": {
        "id": "BjtTCUL_hiZY",
        "outputId": "3807550b-09ec-4496-994b-34e2e472c3a1",
        "colab": {
          "base_uri": "https://localhost:8080/",
          "height": 235
        }
      },
      "outputs": [
        {
          "output_type": "execute_result",
          "data": {
            "text/plain": [
              "     State  Gender        Deaths                              Population  \\\n",
              "                            mean min     max           std          mean   \n",
              "0  Alabama  Female  10753.325000  10  116297  24612.250487  1.078713e+06   \n",
              "1  Alabama    Male  10765.850000  10   88930  20813.538537  1.014946e+06   \n",
              "2   Alaska  Female    679.975000  13    4727   1154.870455  1.440403e+05   \n",
              "3   Alaska    Male    860.357143  12    5185   1411.777392  1.518884e+05   \n",
              "4  Arizona  Female   8998.386364  21  133923  26245.941003  1.246502e+06   \n",
              "\n",
              "                                 \n",
              "     min      max           std  \n",
              "0   2087  4334752  1.400309e+06  \n",
              "1   1129  4284775  1.397830e+06  \n",
              "2   1224   682855  2.015793e+05  \n",
              "3    578   770502  2.238843e+05  \n",
              "4  12211  6265346  2.096632e+06  "
            ],
            "text/html": [
              "\n",
              "  <div id=\"df-ec0ea853-3dd9-4a55-a85c-b70433021f3b\" class=\"colab-df-container\">\n",
              "    <div>\n",
              "<style scoped>\n",
              "    .dataframe tbody tr th:only-of-type {\n",
              "        vertical-align: middle;\n",
              "    }\n",
              "\n",
              "    .dataframe tbody tr th {\n",
              "        vertical-align: top;\n",
              "    }\n",
              "\n",
              "    .dataframe thead tr th {\n",
              "        text-align: left;\n",
              "    }\n",
              "</style>\n",
              "<table border=\"1\" class=\"dataframe\">\n",
              "  <thead>\n",
              "    <tr>\n",
              "      <th></th>\n",
              "      <th>State</th>\n",
              "      <th>Gender</th>\n",
              "      <th colspan=\"4\" halign=\"left\">Deaths</th>\n",
              "      <th colspan=\"4\" halign=\"left\">Population</th>\n",
              "    </tr>\n",
              "    <tr>\n",
              "      <th></th>\n",
              "      <th></th>\n",
              "      <th></th>\n",
              "      <th>mean</th>\n",
              "      <th>min</th>\n",
              "      <th>max</th>\n",
              "      <th>std</th>\n",
              "      <th>mean</th>\n",
              "      <th>min</th>\n",
              "      <th>max</th>\n",
              "      <th>std</th>\n",
              "    </tr>\n",
              "  </thead>\n",
              "  <tbody>\n",
              "    <tr>\n",
              "      <th>0</th>\n",
              "      <td>Alabama</td>\n",
              "      <td>Female</td>\n",
              "      <td>10753.325000</td>\n",
              "      <td>10</td>\n",
              "      <td>116297</td>\n",
              "      <td>24612.250487</td>\n",
              "      <td>1.078713e+06</td>\n",
              "      <td>2087</td>\n",
              "      <td>4334752</td>\n",
              "      <td>1.400309e+06</td>\n",
              "    </tr>\n",
              "    <tr>\n",
              "      <th>1</th>\n",
              "      <td>Alabama</td>\n",
              "      <td>Male</td>\n",
              "      <td>10765.850000</td>\n",
              "      <td>10</td>\n",
              "      <td>88930</td>\n",
              "      <td>20813.538537</td>\n",
              "      <td>1.014946e+06</td>\n",
              "      <td>1129</td>\n",
              "      <td>4284775</td>\n",
              "      <td>1.397830e+06</td>\n",
              "    </tr>\n",
              "    <tr>\n",
              "      <th>2</th>\n",
              "      <td>Alaska</td>\n",
              "      <td>Female</td>\n",
              "      <td>679.975000</td>\n",
              "      <td>13</td>\n",
              "      <td>4727</td>\n",
              "      <td>1154.870455</td>\n",
              "      <td>1.440403e+05</td>\n",
              "      <td>1224</td>\n",
              "      <td>682855</td>\n",
              "      <td>2.015793e+05</td>\n",
              "    </tr>\n",
              "    <tr>\n",
              "      <th>3</th>\n",
              "      <td>Alaska</td>\n",
              "      <td>Male</td>\n",
              "      <td>860.357143</td>\n",
              "      <td>12</td>\n",
              "      <td>5185</td>\n",
              "      <td>1411.777392</td>\n",
              "      <td>1.518884e+05</td>\n",
              "      <td>578</td>\n",
              "      <td>770502</td>\n",
              "      <td>2.238843e+05</td>\n",
              "    </tr>\n",
              "    <tr>\n",
              "      <th>4</th>\n",
              "      <td>Arizona</td>\n",
              "      <td>Female</td>\n",
              "      <td>8998.386364</td>\n",
              "      <td>21</td>\n",
              "      <td>133923</td>\n",
              "      <td>26245.941003</td>\n",
              "      <td>1.246502e+06</td>\n",
              "      <td>12211</td>\n",
              "      <td>6265346</td>\n",
              "      <td>2.096632e+06</td>\n",
              "    </tr>\n",
              "  </tbody>\n",
              "</table>\n",
              "</div>\n",
              "    <div class=\"colab-df-buttons\">\n",
              "\n",
              "  <div class=\"colab-df-container\">\n",
              "    <button class=\"colab-df-convert\" onclick=\"convertToInteractive('df-ec0ea853-3dd9-4a55-a85c-b70433021f3b')\"\n",
              "            title=\"Convert this dataframe to an interactive table.\"\n",
              "            style=\"display:none;\">\n",
              "\n",
              "  <svg xmlns=\"http://www.w3.org/2000/svg\" height=\"24px\" viewBox=\"0 -960 960 960\">\n",
              "    <path d=\"M120-120v-720h720v720H120Zm60-500h600v-160H180v160Zm220 220h160v-160H400v160Zm0 220h160v-160H400v160ZM180-400h160v-160H180v160Zm440 0h160v-160H620v160ZM180-180h160v-160H180v160Zm440 0h160v-160H620v160Z\"/>\n",
              "  </svg>\n",
              "    </button>\n",
              "\n",
              "  <style>\n",
              "    .colab-df-container {\n",
              "      display:flex;\n",
              "      gap: 12px;\n",
              "    }\n",
              "\n",
              "    .colab-df-convert {\n",
              "      background-color: #E8F0FE;\n",
              "      border: none;\n",
              "      border-radius: 50%;\n",
              "      cursor: pointer;\n",
              "      display: none;\n",
              "      fill: #1967D2;\n",
              "      height: 32px;\n",
              "      padding: 0 0 0 0;\n",
              "      width: 32px;\n",
              "    }\n",
              "\n",
              "    .colab-df-convert:hover {\n",
              "      background-color: #E2EBFA;\n",
              "      box-shadow: 0px 1px 2px rgba(60, 64, 67, 0.3), 0px 1px 3px 1px rgba(60, 64, 67, 0.15);\n",
              "      fill: #174EA6;\n",
              "    }\n",
              "\n",
              "    .colab-df-buttons div {\n",
              "      margin-bottom: 4px;\n",
              "    }\n",
              "\n",
              "    [theme=dark] .colab-df-convert {\n",
              "      background-color: #3B4455;\n",
              "      fill: #D2E3FC;\n",
              "    }\n",
              "\n",
              "    [theme=dark] .colab-df-convert:hover {\n",
              "      background-color: #434B5C;\n",
              "      box-shadow: 0px 1px 3px 1px rgba(0, 0, 0, 0.15);\n",
              "      filter: drop-shadow(0px 1px 2px rgba(0, 0, 0, 0.3));\n",
              "      fill: #FFFFFF;\n",
              "    }\n",
              "  </style>\n",
              "\n",
              "    <script>\n",
              "      const buttonEl =\n",
              "        document.querySelector('#df-ec0ea853-3dd9-4a55-a85c-b70433021f3b button.colab-df-convert');\n",
              "      buttonEl.style.display =\n",
              "        google.colab.kernel.accessAllowed ? 'block' : 'none';\n",
              "\n",
              "      async function convertToInteractive(key) {\n",
              "        const element = document.querySelector('#df-ec0ea853-3dd9-4a55-a85c-b70433021f3b');\n",
              "        const dataTable =\n",
              "          await google.colab.kernel.invokeFunction('convertToInteractive',\n",
              "                                                    [key], {});\n",
              "        if (!dataTable) return;\n",
              "\n",
              "        const docLinkHtml = 'Like what you see? Visit the ' +\n",
              "          '<a target=\"_blank\" href=https://colab.research.google.com/notebooks/data_table.ipynb>data table notebook</a>'\n",
              "          + ' to learn more about interactive tables.';\n",
              "        element.innerHTML = '';\n",
              "        dataTable['output_type'] = 'display_data';\n",
              "        await google.colab.output.renderOutput(dataTable, element);\n",
              "        const docLink = document.createElement('div');\n",
              "        docLink.innerHTML = docLinkHtml;\n",
              "        element.appendChild(docLink);\n",
              "      }\n",
              "    </script>\n",
              "  </div>\n",
              "\n",
              "\n",
              "<div id=\"df-ec118341-6399-4663-804a-999492c8b259\">\n",
              "  <button class=\"colab-df-quickchart\" onclick=\"quickchart('df-ec118341-6399-4663-804a-999492c8b259')\"\n",
              "            title=\"Suggest charts\"\n",
              "            style=\"display:none;\">\n",
              "\n",
              "<svg xmlns=\"http://www.w3.org/2000/svg\" height=\"24px\"viewBox=\"0 0 24 24\"\n",
              "     width=\"24px\">\n",
              "    <g>\n",
              "        <path d=\"M19 3H5c-1.1 0-2 .9-2 2v14c0 1.1.9 2 2 2h14c1.1 0 2-.9 2-2V5c0-1.1-.9-2-2-2zM9 17H7v-7h2v7zm4 0h-2V7h2v10zm4 0h-2v-4h2v4z\"/>\n",
              "    </g>\n",
              "</svg>\n",
              "  </button>\n",
              "\n",
              "<style>\n",
              "  .colab-df-quickchart {\n",
              "      --bg-color: #E8F0FE;\n",
              "      --fill-color: #1967D2;\n",
              "      --hover-bg-color: #E2EBFA;\n",
              "      --hover-fill-color: #174EA6;\n",
              "      --disabled-fill-color: #AAA;\n",
              "      --disabled-bg-color: #DDD;\n",
              "  }\n",
              "\n",
              "  [theme=dark] .colab-df-quickchart {\n",
              "      --bg-color: #3B4455;\n",
              "      --fill-color: #D2E3FC;\n",
              "      --hover-bg-color: #434B5C;\n",
              "      --hover-fill-color: #FFFFFF;\n",
              "      --disabled-bg-color: #3B4455;\n",
              "      --disabled-fill-color: #666;\n",
              "  }\n",
              "\n",
              "  .colab-df-quickchart {\n",
              "    background-color: var(--bg-color);\n",
              "    border: none;\n",
              "    border-radius: 50%;\n",
              "    cursor: pointer;\n",
              "    display: none;\n",
              "    fill: var(--fill-color);\n",
              "    height: 32px;\n",
              "    padding: 0;\n",
              "    width: 32px;\n",
              "  }\n",
              "\n",
              "  .colab-df-quickchart:hover {\n",
              "    background-color: var(--hover-bg-color);\n",
              "    box-shadow: 0 1px 2px rgba(60, 64, 67, 0.3), 0 1px 3px 1px rgba(60, 64, 67, 0.15);\n",
              "    fill: var(--button-hover-fill-color);\n",
              "  }\n",
              "\n",
              "  .colab-df-quickchart-complete:disabled,\n",
              "  .colab-df-quickchart-complete:disabled:hover {\n",
              "    background-color: var(--disabled-bg-color);\n",
              "    fill: var(--disabled-fill-color);\n",
              "    box-shadow: none;\n",
              "  }\n",
              "\n",
              "  .colab-df-spinner {\n",
              "    border: 2px solid var(--fill-color);\n",
              "    border-color: transparent;\n",
              "    border-bottom-color: var(--fill-color);\n",
              "    animation:\n",
              "      spin 1s steps(1) infinite;\n",
              "  }\n",
              "\n",
              "  @keyframes spin {\n",
              "    0% {\n",
              "      border-color: transparent;\n",
              "      border-bottom-color: var(--fill-color);\n",
              "      border-left-color: var(--fill-color);\n",
              "    }\n",
              "    20% {\n",
              "      border-color: transparent;\n",
              "      border-left-color: var(--fill-color);\n",
              "      border-top-color: var(--fill-color);\n",
              "    }\n",
              "    30% {\n",
              "      border-color: transparent;\n",
              "      border-left-color: var(--fill-color);\n",
              "      border-top-color: var(--fill-color);\n",
              "      border-right-color: var(--fill-color);\n",
              "    }\n",
              "    40% {\n",
              "      border-color: transparent;\n",
              "      border-right-color: var(--fill-color);\n",
              "      border-top-color: var(--fill-color);\n",
              "    }\n",
              "    60% {\n",
              "      border-color: transparent;\n",
              "      border-right-color: var(--fill-color);\n",
              "    }\n",
              "    80% {\n",
              "      border-color: transparent;\n",
              "      border-right-color: var(--fill-color);\n",
              "      border-bottom-color: var(--fill-color);\n",
              "    }\n",
              "    90% {\n",
              "      border-color: transparent;\n",
              "      border-bottom-color: var(--fill-color);\n",
              "    }\n",
              "  }\n",
              "</style>\n",
              "\n",
              "  <script>\n",
              "    async function quickchart(key) {\n",
              "      const quickchartButtonEl =\n",
              "        document.querySelector('#' + key + ' button');\n",
              "      quickchartButtonEl.disabled = true;  // To prevent multiple clicks.\n",
              "      quickchartButtonEl.classList.add('colab-df-spinner');\n",
              "      try {\n",
              "        const charts = await google.colab.kernel.invokeFunction(\n",
              "            'suggestCharts', [key], {});\n",
              "      } catch (error) {\n",
              "        console.error('Error during call to suggestCharts:', error);\n",
              "      }\n",
              "      quickchartButtonEl.classList.remove('colab-df-spinner');\n",
              "      quickchartButtonEl.classList.add('colab-df-quickchart-complete');\n",
              "    }\n",
              "    (() => {\n",
              "      let quickchartButtonEl =\n",
              "        document.querySelector('#df-ec118341-6399-4663-804a-999492c8b259 button');\n",
              "      quickchartButtonEl.style.display =\n",
              "        google.colab.kernel.accessAllowed ? 'block' : 'none';\n",
              "    })();\n",
              "  </script>\n",
              "</div>\n",
              "\n",
              "    </div>\n",
              "  </div>\n"
            ],
            "application/vnd.google.colaboratory.intrinsic+json": {
              "type": "dataframe",
              "variable_name": "grouped",
              "summary": "{\n  \"name\": \"grouped\",\n  \"rows\": 102,\n  \"fields\": [\n    {\n      \"column\": [\n        \"State\",\n        \"\"\n      ],\n      \"properties\": {\n        \"dtype\": \"string\",\n        \"num_unique_values\": 51,\n        \"samples\": [\n          \"Texas\",\n          \"South Carolina\",\n          \"Virginia\"\n        ],\n        \"semantic_type\": \"\",\n        \"description\": \"\"\n      }\n    },\n    {\n      \"column\": [\n        \"Gender\",\n        \"\"\n      ],\n      \"properties\": {\n        \"dtype\": \"category\",\n        \"num_unique_values\": 2,\n        \"samples\": [\n          \"Male\",\n          \"Female\"\n        ],\n        \"semantic_type\": \"\",\n        \"description\": \"\"\n      }\n    },\n    {\n      \"column\": [\n        \"Deaths\",\n        \"mean\"\n      ],\n      \"properties\": {\n        \"dtype\": \"number\",\n        \"std\": 10212.841448929348,\n        \"min\": 679.975,\n        \"max\": 49555.52272727273,\n        \"num_unique_values\": 102,\n        \"samples\": [\n          6419.707317073171,\n          15750.40909090909\n        ],\n        \"semantic_type\": \"\",\n        \"description\": \"\"\n      }\n    },\n    {\n      \"column\": [\n        \"Deaths\",\n        \"min\"\n      ],\n      \"properties\": {\n        \"dtype\": \"number\",\n        \"std\": 6,\n        \"min\": 10,\n        \"max\": 42,\n        \"num_unique_values\": 19,\n        \"samples\": [\n          10,\n          11\n        ],\n        \"semantic_type\": \"\",\n        \"description\": \"\"\n      }\n    },\n    {\n      \"column\": [\n        \"Deaths\",\n        \"max\"\n      ],\n      \"properties\": {\n        \"dtype\": \"number\",\n        \"std\": 134922,\n        \"min\": 4727,\n        \"max\": 720306,\n        \"num_unique_values\": 102,\n        \"samples\": [\n          122259,\n          148286\n        ],\n        \"semantic_type\": \"\",\n        \"description\": \"\"\n      }\n    },\n    {\n      \"column\": [\n        \"Deaths\",\n        \"std\"\n      ],\n      \"properties\": {\n        \"dtype\": \"number\",\n        \"std\": 26449.352821148535,\n        \"min\": 1154.8704553281045,\n        \"max\": 132121.21767228254,\n        \"num_unique_values\": 102,\n        \"samples\": [\n          21916.903740314123,\n          33010.34391958402\n        ],\n        \"semantic_type\": \"\",\n        \"description\": \"\"\n      }\n    },\n    {\n      \"column\": [\n        \"Population\",\n        \"mean\"\n      ],\n      \"properties\": {\n        \"dtype\": \"number\",\n        \"std\": 1363927.0877415114,\n        \"min\": 139223.6,\n        \"max\": 7511866.0,\n        \"num_unique_values\": 102,\n        \"samples\": [\n          668510.9756097561,\n          1817507.8863636365\n        ],\n        \"semantic_type\": \"\",\n        \"description\": \"\"\n      }\n    },\n    {\n      \"column\": [\n        \"Population\",\n        \"min\"\n      ],\n      \"properties\": {\n        \"dtype\": \"number\",\n        \"std\": 4934,\n        \"min\": 132,\n        \"max\": 40061,\n        \"num_unique_values\": 99,\n        \"samples\": [\n          1310,\n          845\n        ],\n        \"semantic_type\": \"\",\n        \"description\": \"\"\n      }\n    },\n    {\n      \"column\": [\n        \"Population\",\n        \"max\"\n      ],\n      \"properties\": {\n        \"dtype\": \"number\",\n        \"std\": 6801198,\n        \"min\": 598018,\n        \"max\": 38013386,\n        \"num_unique_values\": 102,\n        \"samples\": [\n          3621012,\n          8712243\n        ],\n        \"semantic_type\": \"\",\n        \"description\": \"\"\n      }\n    },\n    {\n      \"column\": [\n        \"Population\",\n        \"std\"\n      ],\n      \"properties\": {\n        \"dtype\": \"number\",\n        \"std\": 2095937.6429451716,\n        \"min\": 166440.84536771098,\n        \"max\": 11612117.409853827,\n        \"num_unique_values\": 102,\n        \"samples\": [\n          1192866.195377325,\n          2727867.3575827\n        ],\n        \"semantic_type\": \"\",\n        \"description\": \"\"\n      }\n    }\n  ]\n}"
            }
          },
          "metadata": {},
          "execution_count": 26
        }
      ],
      "source": [
        "# First, reset the index. Notice the subtle difference; State and Gender are now columns rather than the index\n",
        "grouped = grouped.reset_index()\n",
        "grouped.head()"
      ]
    },
    {
      "cell_type": "markdown",
      "metadata": {
        "id": "1CLNNARShiZY"
      },
      "source": [
        "Note how the way index is displayed has changed.  The index columns that made up the multi-hierarchical index before are now stored as columns of data, with each row given a more traditional numerical index.\n",
        "\n",
        "Let's confirm this by reexamining the `index` attribute of `grouped` in the cell below."
      ]
    },
    {
      "cell_type": "code",
      "execution_count": 29,
      "metadata": {
        "id": "x4JUxm1yhiZY",
        "outputId": "45683821-fa38-4b95-bd80-890d52215325",
        "colab": {
          "base_uri": "https://localhost:8080/"
        }
      },
      "outputs": [
        {
          "output_type": "execute_result",
          "data": {
            "text/plain": [
              "MultiIndex([(      'Alabama', 'Female'),\n",
              "            (      'Alabama',   'Male'),\n",
              "            (       'Alaska', 'Female'),\n",
              "            (       'Alaska',   'Male'),\n",
              "            (      'Arizona', 'Female'),\n",
              "            (      'Arizona',   'Male'),\n",
              "            (     'Arkansas', 'Female'),\n",
              "            (     'Arkansas',   'Male'),\n",
              "            (   'California', 'Female'),\n",
              "            (   'California',   'Male'),\n",
              "            ...\n",
              "            (     'Virginia', 'Female'),\n",
              "            (     'Virginia',   'Male'),\n",
              "            (   'Washington', 'Female'),\n",
              "            (   'Washington',   'Male'),\n",
              "            ('West Virginia', 'Female'),\n",
              "            ('West Virginia',   'Male'),\n",
              "            (    'Wisconsin', 'Female'),\n",
              "            (    'Wisconsin',   'Male'),\n",
              "            (      'Wyoming', 'Female'),\n",
              "            (      'Wyoming',   'Male')],\n",
              "           names=['State', 'Gender'], length=102)"
            ]
          },
          "metadata": {},
          "execution_count": 29
        }
      ],
      "source": [
        "#examine the index attribute of grouped\n",
        "df.groupby(['State', 'Gender'])[['Deaths', 'Population']].agg(['mean', 'min', 'max', 'std']).index"
      ]
    },
    {
      "cell_type": "markdown",
      "metadata": {
        "id": "PTQo6KIlhiZY"
      },
      "source": [
        "However, look again at the displayed DataFrame -- specifically, the columns. Resetting the index has caused the DataFrame to use a multi-indexed structure for the columns.\n",
        "\n",
        "In the cell below, examine the `columns` attribute of `grouped` to confirm this."
      ]
    },
    {
      "cell_type": "code",
      "execution_count": null,
      "metadata": {
        "id": "f1EX_zNzhiZY"
      },
      "outputs": [],
      "source": [
        "# Notice that this causes columns to be MultiIndexed\n"
      ]
    },
    {
      "cell_type": "markdown",
      "metadata": {
        "id": "EiZBiHVqhiZY"
      },
      "source": [
        "### Column levels\n",
        "\n",
        "Since we're working with multi-hierarchical indices, we can examine the indices available at each level.\n",
        "\n",
        "In the cell below, use the `.get_level_values()` method contained within the DataFrame's `columns` attribute to get the values for the outermost layer of the index."
      ]
    },
    {
      "cell_type": "code",
      "execution_count": null,
      "metadata": {
        "id": "NN4CXVM5hiZY"
      },
      "outputs": [],
      "source": []
    },
    {
      "cell_type": "markdown",
      "metadata": {
        "id": "CGvPkZkFhiZY"
      },
      "source": [
        "Now, get the level values for the inner layer of the index."
      ]
    },
    {
      "cell_type": "code",
      "execution_count": null,
      "metadata": {
        "id": "0p1a4g-9hiZZ"
      },
      "outputs": [],
      "source": []
    },
    {
      "cell_type": "markdown",
      "metadata": {
        "id": "k51tleZ5hiZZ"
      },
      "source": [
        "## Flattening the DataFrame\n",
        "\n",
        "We can also **_flatten_** the DataFrame from a multi-hierarchical index to a more traditional one-dimensional index.  We do this by creating each unique combination possible of every level of the multi-hierarchical index.  Since this is a complex task, you do not need to write it -- but take some time to examine the code in the cell below and see if you can understand how it works."
      ]
    },
    {
      "cell_type": "code",
      "execution_count": null,
      "metadata": {
        "id": "sJ4Up62HhiZZ"
      },
      "outputs": [],
      "source": [
        "# We could also flatten these:\n",
        "cols0 = grouped.columns.get_level_values(0)\n",
        "cols1 = grouped.columns.get_level_values(1)\n",
        "grouped.columns = [\n",
        "    col0 + \"_\" + col1 if col1 != \"\" else col0 for col0, col1 in list(zip(cols0, cols1))\n",
        "]\n",
        "# The list comprehension above is more complicated then what we need but creates a nicer formatting and\n",
        "# demonstrates using a conditional within a list comprehension.\n",
        "# This simpler version works but has some tail underscores where col1 is blank:\n",
        "# grouped.columns = [col0 + '_' + col1 for col0, col1 in list(zip(cols0, cols1))]\n",
        "grouped.columns"
      ]
    },
    {
      "cell_type": "markdown",
      "metadata": {
        "id": "IkFpHcwlhiZZ"
      },
      "source": [
        "Now that we've flattened the DataFrame, let's inspect a couple rows to see what it looks like.\n",
        "\n",
        "In the cell below, inspect the `.head()` of the `grouped` DataFrame."
      ]
    },
    {
      "cell_type": "code",
      "execution_count": null,
      "metadata": {
        "id": "X_V-xeKDhiZZ"
      },
      "outputs": [],
      "source": []
    },
    {
      "cell_type": "markdown",
      "metadata": {
        "id": "vbTkOKiJhiZZ"
      },
      "source": [
        "## Using pivots\n",
        "\n",
        "Now, we'll gain some practice using the DataFrame's built-in `.pivot()` method.  \n",
        "\n",
        "In the cell below, call the DataFrame's `.pivot()` method with the following parameters:\n",
        "\n",
        "* index = `'State'`\n",
        "* columns = `'Gender'`\n",
        "* values = `'Deaths_mean'`\n",
        "\n",
        "Then, display the `.head()` of our new `pivot` DataFrame to see what it looks like."
      ]
    },
    {
      "cell_type": "code",
      "execution_count": null,
      "metadata": {
        "id": "ZodlRTXnhiZZ"
      },
      "outputs": [],
      "source": [
        "# Now it's time to pivot\n",
        "pivot = None"
      ]
    },
    {
      "cell_type": "markdown",
      "metadata": {
        "id": "AtMrXNyYhiZZ"
      },
      "source": [
        "We've just created a pivot table.  \n",
        "\n",
        "Let's reset the index and see how it changes our pivot table.\n",
        "\n",
        "In the cell below, reset the index of the `pivot` object as we did previously.  Then, display the `.head()` of the object to see if we can detect any changes."
      ]
    },
    {
      "cell_type": "code",
      "execution_count": null,
      "metadata": {
        "id": "hl8Oc3yHhiZZ"
      },
      "outputs": [],
      "source": [
        "# Again, notice the subtle difference of resetting the index:\n",
        "pivot = None"
      ]
    },
    {
      "cell_type": "markdown",
      "metadata": {
        "id": "FcxEYkpYhiZZ"
      },
      "source": [
        "### Visualizing Data With Pivot Tables\n",
        "\n",
        "Now, we'll make use of our newly created pivot table to quickly create some visualizations of our data.  \n",
        "\n",
        "In the cell below, call `pivot.plot()` with the following parameters:\n",
        "\n",
        "* kind = `'barh'`\n",
        "* figsize = `(15,8)`"
      ]
    },
    {
      "cell_type": "code",
      "execution_count": null,
      "metadata": {
        "id": "jjjhnp5UhiZZ"
      },
      "outputs": [],
      "source": [
        "# Now let's make a sweet bar chart"
      ]
    },
    {
      "cell_type": "markdown",
      "metadata": {
        "id": "pJ1MxyL1hiZZ"
      },
      "source": [
        "Notice the Y-axis is currently just a list of numbers.  That's because when we reset the index, it defaulted to assigning integers as the index for the DataFrame.  Let's set the index back to `'State'`, and then recreate the visualization.\n",
        "\n",
        "In the cell below:\n",
        "\n",
        "* Use the `pivot` object's `.set_index()` method and set the index to `'State'`.  Then, chain this with a `.plot()` call to recreate the visualization using the code we used in the cell above.  \n",
        "\n",
        "All the code in this cell should be done in a single line.  Just call the methods -- do not rebind `pivot` to be equal to this line of code."
      ]
    },
    {
      "cell_type": "code",
      "execution_count": null,
      "metadata": {
        "id": "4D-AZbz-hiZZ"
      },
      "outputs": [],
      "source": [
        "# Where are the states? Notice the y-axis is just a list of numbers.\n",
        "# This is populated by the DataFrame's index.\n",
        "# When we used the .reset_index() method, we created a new numbered index to name each row.\n",
        "# Let's fix that by making state the index again."
      ]
    },
    {
      "cell_type": "markdown",
      "metadata": {
        "id": "9NTgCPUjhiZZ"
      },
      "source": [
        "Now that we've created a visualization with the states as the y-axis, let's print out the head of the `pivot` object again."
      ]
    },
    {
      "cell_type": "code",
      "execution_count": null,
      "metadata": {
        "id": "mDqkUzophiZZ"
      },
      "outputs": [],
      "source": [
        "# Also notice that if we call the DataFrame pivot again, state is not it's index.\n",
        "# The above method returned a DataFrame with State as index and we plotted it,\n",
        "# but it did not update the DataFrame itself."
      ]
    },
    {
      "cell_type": "markdown",
      "metadata": {
        "id": "gE3wIMsDhiZZ"
      },
      "source": [
        "Note that the index has not changed.  That's because the code we wrote when we set the index to the `'State'` column returns a copy of the DataFrame object with the index set to `'State'` -- by default, it does not mutate original `pivot` object.  \n",
        "\n",
        "If we want to do that, we'll need to capture the new object returned by updating the contents of the `pivot` variable.  \n",
        "\n",
        "In the cell below, set the index of `pivot` to `'State'`.  Then, recreate the bar plot using this new object.  "
      ]
    },
    {
      "cell_type": "code",
      "execution_count": null,
      "metadata": {
        "id": "pfWJ1uhVhiZZ"
      },
      "outputs": [],
      "source": [
        "# If we wanted to more permanently change the index we would set it first and then plot:\n",
        "pivot = None"
      ]
    },
    {
      "cell_type": "markdown",
      "metadata": {
        "id": "Uye65OEDhiZa"
      },
      "source": [
        "Again, let's check the `.head()` of the DataFrame to confirm that the index structure has changed.  "
      ]
    },
    {
      "cell_type": "code",
      "execution_count": null,
      "metadata": {
        "id": "Vg9-kfC1hiZa"
      },
      "outputs": [],
      "source": []
    },
    {
      "cell_type": "markdown",
      "metadata": {
        "id": "Tz_fFUB6hiZa"
      },
      "source": [
        "Finally, let's stack these bar charts to see how that looks.\n",
        "\n",
        "In the cell below, recreate the visualization we did in the cell above, but this time, also pass in `stacked=True` as a parameter."
      ]
    },
    {
      "cell_type": "code",
      "execution_count": null,
      "metadata": {
        "id": "YvHVIvZ-hiZa"
      },
      "outputs": [],
      "source": [
        "# Lastly, let's stack each of these bars for each state.\n",
        "# Notice we don't have to worry about index here, because we've already set it above."
      ]
    },
    {
      "cell_type": "markdown",
      "metadata": {
        "id": "lULMAwOKhiZa"
      },
      "source": [
        "## Stacking and Unstacking DataFrames\n",
        "\n",
        "Now, let's get some practice stacking and unstacking DataFrames.\n",
        "\n",
        "### Stacking\n",
        "\n",
        "In the cell below, let's display the head of `grouped` to remind ourselves of the format we left it in."
      ]
    },
    {
      "cell_type": "code",
      "execution_count": null,
      "metadata": {
        "id": "lsks6NichiZa"
      },
      "outputs": [],
      "source": []
    },
    {
      "cell_type": "markdown",
      "metadata": {
        "id": "zBldCZWDhiZa"
      },
      "source": [
        "As we can see above, `grouped` is currently in a flattened format, with no hierarchical structure to it's indices.  \n",
        "\n",
        "In the cell below, call the `grouped` DataFrame's `.stack()` method."
      ]
    },
    {
      "cell_type": "code",
      "execution_count": null,
      "metadata": {
        "id": "yn1qyMqthiZa"
      },
      "outputs": [],
      "source": []
    },
    {
      "cell_type": "markdown",
      "metadata": {
        "id": "0yooBGvxhiZa"
      },
      "source": [
        "As we can see, the `.stack()` method has stacked our DataFrame from a flattened format into one with a multi-hierarchical index. This is an easy, quick way to aggregate our data.\n",
        "\n",
        "### Unstacking\n",
        "\n",
        "Now, we'll explore unstacking with the `pivot` DataFrame, which is already stacked into a pivot table.\n",
        "\n",
        "In the cell below, set unstack `pivot` using the object's `.unstack()` method. Then, display the object to see how it has changed."
      ]
    },
    {
      "cell_type": "code",
      "execution_count": null,
      "metadata": {
        "id": "tCGB2xTphiZa"
      },
      "outputs": [],
      "source": [
        "pivot = None"
      ]
    },
    {
      "cell_type": "markdown",
      "metadata": {
        "id": "x245F9TghiZa"
      },
      "source": [
        "Note that it has unstacked the multi-hierarchical structure of the `pivot` DataFrame by one level. Let's call it one more time and display the results.\n",
        "\n",
        "In the cell below, set `pivot` equal to `pivot.unstack()` again, and then print the `pivot` object to see how things have changed."
      ]
    },
    {
      "cell_type": "code",
      "execution_count": null,
      "metadata": {
        "id": "ju9QBuBThiZa"
      },
      "outputs": [],
      "source": [
        "pivot = None"
      ]
    },
    {
      "cell_type": "markdown",
      "metadata": {
        "id": "p_Fv-93AhiZa"
      },
      "source": [
        "After calling unstack a second time, we can see that `pivot` has a flattened structure since it has been completely unstacked.\n",
        "\n",
        "## Summary\n",
        "\n",
        "In this lab, we learned how to:\n",
        "\n",
        "* Use `.groupby()` to stack and slice data conditionally\n",
        "* Use aggregate methods in combination with groupby statements\n",
        "* Create pivot tables with pandas\n",
        "* Leverage pivot tables and groupby statements to create quick visualizations\n",
        "* `stack` and `unstack` DataFrames"
      ]
    }
  ],
  "metadata": {
    "kernelspec": {
      "display_name": "Python 3",
      "language": "python",
      "name": "python3"
    },
    "language_info": {
      "codemirror_mode": {
        "name": "ipython",
        "version": 3
      },
      "file_extension": ".py",
      "mimetype": "text/x-python",
      "name": "python",
      "nbconvert_exporter": "python",
      "pygments_lexer": "ipython3",
      "version": "3.8.5"
    },
    "colab": {
      "provenance": []
    }
  },
  "nbformat": 4,
  "nbformat_minor": 0
}